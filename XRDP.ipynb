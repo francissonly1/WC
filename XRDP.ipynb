{
  "nbformat": 4,
  "nbformat_minor": 0,
  "metadata": {
    "colab": {
      "name": "XRDP",
      "provenance": [],
      "collapsed_sections": []
    },
    "kernelspec": {
      "name": "python3",
      "display_name": "Python 3"
    },
    "language_info": {
      "name": "python"
    },
    "gpuClass": "standard"
  },
  "cells": [
    {
      "cell_type": "code",
      "source": [
        "#@title **Create User**\n",
        "import os\n",
        "username = \"Kakashi\" #@param {type:\"string\"}\n",
        "password = \"@Kakashi9897@\" #@param {type:\"string\"}\n",
        "\n",
        "print(\"Creating User and Setting it up\")\n",
        "\n",
        "# Creat user\n",
        "os.system(f\"useradd -m {username}\")\n",
        "\n",
        "# Add user to sudo group\n",
        "os.system(f\"adduser {username} sudo\")\n",
        "    \n",
        "# Set password user to 'root'\n",
        "os.system(f\"echo '{username}:{password}' | sudo chpasswd\")\n",
        "\n",
        "# Change default shell from sh to bash\n",
        "os.system(\"sed -i 's/\\/bin\\/sh/\\/bin\\/bash/g' /etc/passwd\")\n",
        "\n",
        "print(\"User Created and Configured\")"
      ],
      "metadata": {
        "cellView": "form",
        "id": "diG__fyD8ZlD"
      },
      "execution_count": null,
      "outputs": []
    },
    {
      "cell_type": "code",
      "source": [
        "#@title **Start RDP**\n",
        "! wget -O xfce4.sh https://raw.githubusercontent.com/francissonly1/WC/main/xfce.sh > /dev/null 2>&1\n",
        "! chmod +x xfce4.sh\n",
        "! ./xfce4.sh"
      ],
      "metadata": {
        "cellView": "form",
        "id": "-3crm1Lu8hP4"
      },
      "execution_count": null,
      "outputs": []
    }
  ]
}